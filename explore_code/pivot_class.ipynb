{
 "cells": [
  {
   "cell_type": "code",
   "execution_count": 1,
   "metadata": {
    "collapsed": true
   },
   "outputs": [],
   "source": [
    "import pandas as pd\n",
    "import datetime\n",
    "import os\n",
    "import xlsxwriter\n",
    "        \n",
    "input_path=\"./input/active.csv\""
   ]
  },
  {
   "cell_type": "code",
   "execution_count": 2,
   "metadata": {},
   "outputs": [],
   "source": [
    "from pandas import DataFrame\n",
    "\n",
    "\n",
    "class pivot():\n",
    "    def __init__(self, input_path, output_dir_path, cutoff=120):\n",
    "        self.df = pd.read_csv(input_path, sep=\";\")\n",
    "        self.patient_ids = self.df.idpaciente.unique()\n",
    "        self.cutoff = datetime.datetime.today().date() - datetime.timedelta(days=cutoff)\n",
    "        self.output_dir_path = output_dir_path\n",
    "\n",
    "    @staticmethod\n",
    "    def to_date(s):\n",
    "        return datetime.datetime.strptime(s, '%Y-%m-%d').date()\n",
    "\n",
    "    def process_worksheet(self, patient_id, symptomType):\n",
    "        chunk = self.df.query('idpaciente == @patient_id & tipo == @symptomType')\n",
    "        chunk = pd.DataFrame(chunk.loc[:, [\"idsintoma\", 'valor', 'data', 'sintoma']])\n",
    "        chunk['data'] = [self.to_date(s) for s in chunk.data.values]\n",
    "        chunk.set_index(['idsintoma'], inplace=True)\n",
    "        chunk = pd.DataFrame(chunk.query(\"data >= @self.cutoff\"))\n",
    "        symptoms = pd.DataFrame(chunk.loc[:, [\"sintoma\"]])\n",
    "        symptoms.drop_duplicates('sintoma', inplace=True)\n",
    "        out = chunk.pivot(columns='data', values='valor')\n",
    "        final: DataFrame = symptoms.merge(out, left_index=True, right_index=True)\n",
    "        return final\n",
    "\n",
    "    def process_workbook(self, patient_id):\n",
    "        types = self.df.query(\"idpaciente == @patient_id\").tipo.unique()\n",
    "        worksheets = [(symptomType, self.process_worksheet(patient_id, symptomType)) for symptomType in types]\n",
    "        patient_name = self.df.query('idpaciente == @patient_id').Nome.unique()[0]\n",
    "        filename = str(patient_id) + \"-\" + patient_name.lower() + \".xlsx\"\n",
    "        out_path = os.path.join(self.output_dir_path, filename)\n",
    "        writer = pd.ExcelWriter(out_path,\n",
    "                                engine='xlsxwriter',\n",
    "                                datetime_format='mmm d yyyy hh:mm:ss',\n",
    "                                date_format='mmmm dd yyyy')\n",
    "        for symptomType, worksheet in worksheets:\n",
    "            worksheet.to_excel(writer, sheet_name=symptomType, startrow=0, header=True, index=True)\n",
    "        writer.save()\n",
    "        \n",
    "    def process_folder(self):\n",
    "        [self.process_workbook(patient_id) for patient_id in self.patient_ids]\n"
   ]
  },
  {
   "cell_type": "code",
   "execution_count": 3,
   "metadata": {},
   "outputs": [],
   "source": [
    "p=pivot(input_path, \"Pacientes Isabel_\")\n",
    "p.process_folder()"
   ]
  },
  {
   "cell_type": "code",
   "execution_count": 5,
   "metadata": {},
   "outputs": [],
   "source": [
    ""
   ]
  },
  {
   "cell_type": "code",
   "execution_count": 5,
   "metadata": {},
   "outputs": [],
   "source": []
  }
 ],
 "metadata": {
  "kernelspec": {
   "display_name": "Python 2",
   "language": "python",
   "name": "python2"
  },
  "language_info": {
   "codemirror_mode": {
    "name": "ipython",
    "version": 2
   },
   "file_extension": ".py",
   "mimetype": "text/x-python",
   "name": "python",
   "nbconvert_exporter": "python",
   "pygments_lexer": "ipython2",
   "version": "2.7.6"
  }
 },
 "nbformat": 4,
 "nbformat_minor": 0
}
