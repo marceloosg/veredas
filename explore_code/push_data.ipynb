{
 "cells": [
  {
   "cell_type": "code",
   "execution_count": null,
   "metadata": {
    "collapsed": true
   },
   "outputs": [],
   "source": [
    "import mysql\n",
    "import pandas as pd\n",
    "import os\n",
    "os.getcwd()\n",
    "\n",
    "vars=[f.split(\"_\")[1] for f in os.listdir('scripts') if 'mysql' in f]\n",
    "\n",
    "\n",
    "def read_vars(file):\n",
    "    file='mysql_'+file\n",
    "    fn=os.path.join('scripts',file)\n",
    "    out=\"\"\n",
    "    with open(fn,'r') as f:\n",
    "        out=f.read().strip('\\n')\n",
    "    return out\n",
    "\n",
    "credentials=dict([(f,read_vars(f)) for f in vars])\n",
    "credentials.keys()\n",
    "\n",
    "\n",
    "query=\"\"\n",
    "pacient_query=\"\"\n",
    "with open(os.path.join('scripts', 'get_patients.sql'),'r') as f:\n",
    "    pacient_query=f.read()\n",
    "\n",
    "with open(os.path.join('scripts', 'get_active.sql'),'r') as f:\n",
    "    query=f.read()\n",
    "pacient_query\n",
    "import mysql.connector\n"
   ]
  },
  {
   "cell_type": "code",
   "execution_count": null,
   "metadata": {
    "collapsed": true
   },
   "outputs": [],
   "source": [
    "\n",
    "class QueryFactory:\n",
    "    def connect(self):\n",
    "        if not(self.conn and self.conn.is_connected()):\n",
    "            self.conn = mysql.connector.connect(\n",
    "                host=self.credentials[\"host\"],\n",
    "                user=self.credentials[\"user\"],\n",
    "                password=self.credentials[\"pass\"],\n",
    "                db=self.credentials[\"db\"],\n",
    "                charset='utf8',\n",
    "                buffered=True,\n",
    "                connection_timeout= 180,\n",
    "                autocommit=True)\n",
    "            cur = self.conn.cursor()\n",
    "            cur.execute('set session net_read_timeout=120')\n",
    "            cur.execute('SET SESSION CHARACTER_SET_RESULTS = latin1')\n",
    "            cur.close()\n",
    "            \n",
    "    def query(self, query):\n",
    "        self.connect()\n",
    "        return pd.read_sql(query, con=self.conn)\n",
    "\n",
    "    def __init__(self,credentials):\n",
    "        self.conn = None\n",
    "        self.credentials = credentials\n"
   ]
  },
  {
   "cell_type": "code",
   "execution_count": null,
   "metadata": {
    "collapsed": true
   },
   "outputs": [],
   "source": [
    "\n",
    "engine = QueryFactory(credentials)\n",
    "\n",
    "pacient_list =engine.query(pacient_query)\n",
    "pacient_list\n",
    "\n",
    "sintomas =engine.query('select idsintomasGeral idsintoma, replace(Nome,\";\",\" \") sintoma, tipo from jsintomasgeral')\n",
    "sintomas\n",
    "pacient_ids='{}'.format(list(pacient_list.idpaciente.values)).replace('[','(').replace(']',')')\n",
    "sintomas_diario_query = \"select idsintoma,valor,data,idpaciente from jsintomadiario where data is not null and data != '0000-00-00' and idpaciente in {}\".format(pacient_ids)\n",
    "sintomas_diario_query\n",
    "\n",
    "sintomas_diario =engine.query(sintomas_diario_query)\n",
    "\n",
    "sintomas_diario\n",
    "pacient_data=engine.query('select idpaciente, Nome from jpaciente where idpaciente in {}'.format(pacient_ids))\n",
    "pacient_data\n",
    "\n",
    "active_data=sintomas_diario.merge(pacient_data,how='inner',on='idpaciente').merge(sintomas,how='inner',on='idsintoma')\n",
    "\n",
    "fn=os.path.join('input','active.csv')\n",
    "\n",
    "\n",
    "active_data.to_csv(fn, sep=';', index=False)\n"
   ]
  },
  {
   "cell_type": "code",
   "execution_count": 10,
   "metadata": {},
   "outputs": [],
   "source": []
  }
 ],
 "metadata": {
  "kernelspec": {
   "display_name": "Python 2",
   "language": "python",
   "name": "python2"
  },
  "language_info": {
   "codemirror_mode": {
    "name": "ipython",
    "version": 2
   },
   "file_extension": ".py",
   "mimetype": "text/x-python",
   "name": "python",
   "nbconvert_exporter": "python",
   "pygments_lexer": "ipython2",
   "version": "2.7.6"
  }
 },
 "nbformat": 4,
 "nbformat_minor": 0
}
